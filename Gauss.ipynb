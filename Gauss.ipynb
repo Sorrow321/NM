{
 "cells": [
  {
   "cell_type": "code",
   "execution_count": 236,
   "metadata": {},
   "outputs": [],
   "source": [
    "import numpy as np\n",
    "np.set_printoptions(precision=5, suppress=True)"
   ]
  },
  {
   "cell_type": "markdown",
   "metadata": {},
   "source": [
    "# Создание и заполнение матрицы"
   ]
  },
  {
   "cell_type": "markdown",
   "metadata": {},
   "source": [
    "Создаем и заполняем матрицу входными данными из файла __data.txt__. Размерность определяется автоматически.\n",
    "Предполагается, что данные введены корректно в естественной форме:\n",
    "$$\\begin{bmatrix}\n",
    "    a_{11} & a_{12} & ... & a_{1n} \\\\\n",
    "    a_{21} & a_{22} & ... & a_{2n}\\\\\n",
    "    . & . & ... & .\\\\\n",
    "    . & . & ... & .\\\\\n",
    "    a_{n1} & a_{n2} & ... & a_{nn}\n",
    "  \\end{bmatrix}\n",
    " \\begin{bmatrix}\n",
    "    b_1\\\\\n",
    "    b_2\\\\\n",
    "    .\\\\\n",
    "    .\\\\\n",
    "    b_n\n",
    "  \\end{bmatrix}$$"
   ]
  },
  {
   "cell_type": "code",
   "execution_count": 237,
   "metadata": {},
   "outputs": [
    {
     "name": "stdout",
     "output_type": "stream",
     "text": [
      "[[ 2.  3. 11.  5.  2.]\n",
      " [ 1.  1.  5.  2.  1.]\n",
      " [ 2.  1.  3.  2. -3.]\n",
      " [ 1.  1.  3.  4. -3.]]\n"
     ]
    }
   ],
   "source": [
    "data = np.loadtxt(\"data2.txt\", delimiter=' ', dtype=np.float)\n",
    "data_cpy = np.copy(data)\n",
    "n = data.shape[0] # размерность\n",
    "print(data) # для наглядности выведем матрицу"
   ]
  },
  {
   "cell_type": "markdown",
   "metadata": {},
   "source": [
    "# Реализация модифицированного метода Гаусса"
   ]
  },
  {
   "cell_type": "code",
   "execution_count": 238,
   "metadata": {},
   "outputs": [],
   "source": [
    "def Gauss(data, n):\n",
    "    # Прямой ход\n",
    "    permutations = np.array(range(0, n))\n",
    "    for i in range(0, n):\n",
    "        if data[i][i] == 0: # i-й элемент строки нулевой?\n",
    "            for j in range(i + 1, n):\n",
    "                if data[j][i] != 0:\n",
    "                    data[[i, j]] = data[[j, i]] # меняем местами строчки\n",
    "                    break\n",
    "        ### Модифицированный метод гаусса (с выбором главного элемента)\n",
    "        col_max = i + np.argmax(abs(data[i][i:n]))\n",
    "        data[:,[i, col_max]] = data[:,[col_max, i]]\n",
    "        permutations[i], permutations[col_max] = permutations[col_max], permutations[i]\n",
    "        ###\n",
    "        data[i] /= data[i][i] # делим i-ю строку на её i-й элемент\n",
    "        for j in range(i + 1, n):\n",
    "            data[j] -= data[i] * data[j][i] # вычитаем из всех остальных строк i-ю, умноженную на нужное число\n",
    "    # Обратный ход\n",
    "    x = data[:, n] # создаем вектор неизвестных, заранее присвоив ему значение столбца свободных членов\n",
    "    for i in range(n - 1, -1, -1): # последовательно восставливаем ответ\n",
    "        for j in range(n - 1, i, -1):\n",
    "            x[i] -= x[j] * data[i][j]\n",
    "    res = np.array(list(zip(x, permutations))) # массив пар (x, i), где x является i-й компонентой решения системы\n",
    "    res = res[res[:, 1].argsort()] # сортировка по номеру переменной\n",
    "    x = res[:, 0] # вытаскиваем вектор решений в естественном порядке (от x_0 до x_n)\n",
    "    return x # возвращаем решение системы"
   ]
  },
  {
   "cell_type": "code",
   "execution_count": 239,
   "metadata": {},
   "outputs": [
    {
     "name": "stdout",
     "output_type": "stream",
     "text": [
      "[-2. -0.  1. -1.]\n"
     ]
    }
   ],
   "source": [
    "print(Gauss(data, n))"
   ]
  },
  {
   "cell_type": "markdown",
   "metadata": {},
   "source": [
    "Сверим найденное решение с решением, полученным с использованием специальной библиотеки Python для решения задач линейной алгебры."
   ]
  },
  {
   "cell_type": "code",
   "execution_count": 240,
   "metadata": {},
   "outputs": [
    {
     "name": "stdout",
     "output_type": "stream",
     "text": [
      "[-2. -0.  1. -1.]\n"
     ]
    }
   ],
   "source": [
    "print(np.linalg.solve(data_cpy[:, :n], data_cpy[:, n]))"
   ]
  },
  {
   "cell_type": "markdown",
   "metadata": {},
   "source": [
    "Как видим, решение полностью совпало."
   ]
  },
  {
   "cell_type": "markdown",
   "metadata": {},
   "source": [
    "# Вычисление определителя и обратной матрицы"
   ]
  },
  {
   "cell_type": "markdown",
   "metadata": {},
   "source": [
    "Для вычисления обратной матрицы присоединим к исходной справа единичную матрицу и будем приводить исходную к единичной, выполняя все преобразования на присоединенной. В итоге присоединенная матрица окажется обратной к исходной. Параллельно вычисляем определитель, перемножая получаемые по ходу преобразований элементы на главной диагонали (предполагается, что определитель ненулевой)."
   ]
  },
  {
   "cell_type": "code",
   "execution_count": 241,
   "metadata": {},
   "outputs": [],
   "source": [
    "def det_inverse(data_cpy, n):\n",
    "    det = 1\n",
    "    data_inv = data_cpy[:, :n]\n",
    "    id = np.identity(n) # единичная матрица порядка n\n",
    "    for i in range(0, n): # присоединяем\n",
    "        data_inv = np.column_stack((data_inv, id[:, i]))\n",
    "    for i in range(0, n): # приводим \"левую\" матрицу к нижнитреугольному виду с единицами на диагонали\n",
    "        if data_inv[i][i] == 0: # i-й элемент строки нулевой?\n",
    "            for j in range(i + 1, n):\n",
    "                if data_inv[j][i] != 0:\n",
    "                    data_inv[[i, j]] = data_inv[[j, i]] # меняем местами строчки\n",
    "                    break\n",
    "        det *= data_inv[i][i] # последовательно вычисляем определитель\n",
    "        data_inv[i] /= data_inv[i][i] # делим i-ю строку на её i-й элемент\n",
    "        for j in range(i + 1, n):\n",
    "            data_inv[j] -= data_inv[i] * data_inv[j][i] # вычитаем из всех остальных строк i-ю, умноженную на нужное число\n",
    "    for i in range(n - 1, -1, -1): # # приводим \"левую\" матрицу к единичному виду\n",
    "        for j in range(i - 1, -1, -1):\n",
    "            data_inv[j] -= data_inv[i] * data_inv[j][i] # вычитаем из всех остальных строк i-ю, умноженную на нужное число\n",
    "    inverse_matrix = data_inv[:, n:] # вытаскиваем нужную часть\n",
    "    return det, inverse_matrix"
   ]
  },
  {
   "cell_type": "code",
   "execution_count": 242,
   "metadata": {},
   "outputs": [
    {
     "name": "stdout",
     "output_type": "stream",
     "text": [
      "14.0\n",
      "[[-0.28571  0.28571  0.71429 -0.14286]\n",
      " [ 1.28571 -2.78571  0.28571 -0.35714]\n",
      " [-0.14286  0.64286 -0.14286 -0.07143]\n",
      " [-0.14286  0.14286 -0.14286  0.42857]]\n"
     ]
    }
   ],
   "source": [
    "det, inverse_matrix = det_inverse(data_cpy, n)\n",
    "print(det) # выводим определитель\n",
    "print(inverse_matrix) # выводим обратную матрицу"
   ]
  },
  {
   "cell_type": "markdown",
   "metadata": {},
   "source": [
    "Проверим полученные результаты, опять же, с помощью библиотечных функций."
   ]
  },
  {
   "cell_type": "code",
   "execution_count": 243,
   "metadata": {},
   "outputs": [
    {
     "name": "stdout",
     "output_type": "stream",
     "text": [
      "14.000000000000004\n",
      "[[ 1. -0. -0.  0.]\n",
      " [ 0.  1. -0. -0.]\n",
      " [ 0.  0.  1. -0.]\n",
      " [ 0.  0. -0.  1.]]\n"
     ]
    }
   ],
   "source": [
    "print(np.linalg.det(data_cpy[:, :n])) # определитель\n",
    "print(np.dot(data_cpy[:, :n], inverse_matrix)) # умножаем исходную матрицу на полученную обратную"
   ]
  },
  {
   "cell_type": "markdown",
   "metadata": {},
   "source": [
    "# Тестирование"
   ]
  },
  {
   "cell_type": "markdown",
   "metadata": {},
   "source": [
    "Далее будут представлены резульаты тестирование программы на системах линейных алгебраических уравнений, которые были предложены в приложении 1-2. Первая из систем была проверена выше. Ниже приводятся непосредственные ответы, полученные с помощью описанной выше программы, а также с помощью функции __np.linalg.solve__."
   ]
  },
  {
   "cell_type": "code",
   "execution_count": 244,
   "metadata": {},
   "outputs": [
    {
     "name": "stdout",
     "output_type": "stream",
     "text": [
      "-0.00000\n",
      "[[ 2. -1.  1.  2.]\n",
      " [ 6. -3.  2.  4.]\n",
      " [ 6. -3.  4.  8.]\n",
      " [ 4. -2.  1.  1.]]\n"
     ]
    }
   ],
   "source": [
    "# Вторая матрица\n",
    "data2 = np.loadtxt(\"data3.txt\", delimiter=' ', dtype=np.float)\n",
    "data2 = data2[:, :data2.shape[0]]\n",
    "print(\"%.5f\" % np.linalg.det(data2))\n",
    "print(data2)"
   ]
  },
  {
   "cell_type": "markdown",
   "metadata": {},
   "source": [
    "Вторая матрица из приложения 1-2 является вырожденной, поэтому рассмотренные выше методы для неё не годятся."
   ]
  },
  {
   "cell_type": "code",
   "execution_count": 255,
   "metadata": {},
   "outputs": [
    {
     "name": "stdout",
     "output_type": "stream",
     "text": [
      "[[ 1.  1. -3.  1. -1.]\n",
      " [ 2.  1. -2.  0.  1.]\n",
      " [ 1.  1.  1.  0.  3.]\n",
      " [ 1.  2. -3. -7.  1.]]\n",
      "[ 0.91667  1.11111  0.97222 -0.11111]\n",
      "[ 0.91667  1.11111  0.97222 -0.11111]\n",
      "1.00000\n",
      "1.00000\n",
      "[[ 1.       0.33333  0.25     0.25   ]\n",
      " [ 0.       1.      -0.25     0.75   ]\n",
      " [ 0.       0.       1.      -1.     ]\n",
      " [ 0.       0.       0.       1.     ]]\n",
      "[[ 1.       0.33333  0.25     0.25   ]\n",
      " [ 0.       1.      -0.25     0.75   ]\n",
      " [ 0.       0.       1.      -1.     ]\n",
      " [ 0.       0.       0.       1.     ]]\n",
      "[[1. 0. 0. 0.]\n",
      " [0. 1. 0. 0.]\n",
      " [0. 0. 1. 0.]\n",
      " [0. 0. 0. 1.]]\n",
      "[[1. 0. 0. 0.]\n",
      " [0. 1. 0. 0.]\n",
      " [0. 0. 1. 0.]\n",
      " [0. 0. 0. 1.]]\n"
     ]
    }
   ],
   "source": [
    "# Третья матрица\n",
    "data3 = np.loadtxt(\"data4.txt\", delimiter=' ', dtype=np.float)\n",
    "print(data3)\n",
    "print(np.linalg.solve(data3[:, :n], data3[:, n]))\n",
    "print(Gauss(data3, n))\n",
    "res = det_inverse(data3, n)\n",
    "print(\"%.5f\" % np.linalg.det(data3[:, :n]))\n",
    "print(\"%.5f\" % res[0])\n",
    "print(res[1])\n",
    "print(inv)\n",
    "inv = np.linalg.inv(data3[:, :n])\n",
    "print(np.dot(res[1], data3[:, :n]))\n",
    "print(np.dot(inv, data3[:, :n]))"
   ]
  },
  {
   "cell_type": "markdown",
   "metadata": {},
   "source": [
    "Как видим, всё совпадает."
   ]
  },
  {
   "cell_type": "code",
   "execution_count": null,
   "metadata": {},
   "outputs": [],
   "source": []
  }
 ],
 "metadata": {
  "kernelspec": {
   "display_name": "Python 3",
   "language": "python",
   "name": "python3"
  },
  "language_info": {
   "codemirror_mode": {
    "name": "ipython",
    "version": 3
   },
   "file_extension": ".py",
   "mimetype": "text/x-python",
   "name": "python",
   "nbconvert_exporter": "python",
   "pygments_lexer": "ipython3",
   "version": "3.7.0"
  }
 },
 "nbformat": 4,
 "nbformat_minor": 2
}
