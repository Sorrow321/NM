{
 "cells": [
  {
   "cell_type": "code",
   "execution_count": 125,
   "metadata": {},
   "outputs": [],
   "source": [
    "import numpy as np\n",
    "np.set_printoptions(precision=5, suppress=True)"
   ]
  },
  {
   "cell_type": "markdown",
   "metadata": {},
   "source": [
    "# Создание и заполнение матрицы"
   ]
  },
  {
   "cell_type": "markdown",
   "metadata": {},
   "source": [
    "Создаем и заполняем матрицу входными данными из файла __data.txt__. Размерность определяется автоматически.\n",
    "Предполагается, что данные введены корректно в естественной форме:\n",
    "$$\\begin{bmatrix}\n",
    "    a_{11} & a_{12} & ... & a_{1n} \\\\\n",
    "    a_{21} & a_{22} & ... & a_{2n}\\\\\n",
    "    . & . & ... & .\\\\\n",
    "    . & . & ... & .\\\\\n",
    "    a_{n1} & a_{n2} & ... & a_{nn}\n",
    "  \\end{bmatrix}\n",
    " \\begin{bmatrix}\n",
    "    b_1\\\\\n",
    "    b_2\\\\\n",
    "    .\\\\\n",
    "    .\\\\\n",
    "    b_n\n",
    "  \\end{bmatrix}$$"
   ]
  },
  {
   "cell_type": "code",
   "execution_count": 168,
   "metadata": {},
   "outputs": [
    {
     "name": "stdout",
     "output_type": "stream",
     "text": [
      "[[ 2.  3. 11.  5.  2.]\n",
      " [ 1.  1.  5.  2.  1.]\n",
      " [ 2.  1.  3.  2. -3.]\n",
      " [ 1.  1.  3.  4. -3.]]\n"
     ]
    }
   ],
   "source": [
    "data = np.loadtxt(\"data.txt\", delimiter=' ', dtype=np.float)\n",
    "data_cpy = np.copy(data)\n",
    "n = data.shape[0] # размерность\n",
    "print(data) # для наглядности выведем матрицу"
   ]
  },
  {
   "cell_type": "markdown",
   "metadata": {},
   "source": [
    "# Прямой ход метода Гаусса"
   ]
  },
  {
   "cell_type": "code",
   "execution_count": 169,
   "metadata": {},
   "outputs": [],
   "source": [
    "permutations = np.array(range(0, n))\n",
    "for i in range(0, n):\n",
    "    if data[i][i] == 0: # i-й элемент строки нулевой?\n",
    "        for j in range(i + 1, n):\n",
    "            if data[j][i] != 0:\n",
    "                data[[i, j]] = data[[j, i]] # меняем местами строчки\n",
    "                break\n",
    "    ### Модифицированный метод гаусса (с выбором главного элемента)\n",
    "    col_max = i + np.argmax(abs(data[i][i:n]))\n",
    "    data[:,[i, col_max]] = data[:,[col_max, i]]\n",
    "    permutations[i], permutations[col_max] = permutations[col_max], permutations[i]\n",
    "    ###\n",
    "    data[i] /= data[i][i] # делим i-ю строку на её i-й элемент\n",
    "    for j in range(i + 1, n):\n",
    "        data[j] -= data[i] * data[j][i] # вычитаем из всех остальных строк i-ю, умноженную на нужное число"
   ]
  },
  {
   "cell_type": "code",
   "execution_count": 170,
   "metadata": {},
   "outputs": [
    {
     "name": "stdout",
     "output_type": "stream",
     "text": [
      "[[ 1.       0.27273  0.18182  0.45455  0.18182]\n",
      " [-0.       1.      -0.25     0.75    -0.25   ]\n",
      " [ 0.       0.       1.       0.33333 -2.33333]\n",
      " [ 0.       0.       0.       1.      -1.     ]]\n"
     ]
    }
   ],
   "source": [
    "# Посмотрим приведенную к ступенчатому виду матрицу\n",
    "print(data)"
   ]
  },
  {
   "cell_type": "markdown",
   "metadata": {},
   "source": [
    "# Обратный ход метода Гаусса"
   ]
  },
  {
   "cell_type": "code",
   "execution_count": 171,
   "metadata": {
    "scrolled": true
   },
   "outputs": [
    {
     "name": "stdout",
     "output_type": "stream",
     "text": [
      "[-2. -0.  1. -1.]\n"
     ]
    }
   ],
   "source": [
    "x = data[:, n] # создаем вектор неизвестных, заранее присвоив ему значение столбца свободных членов\n",
    "for i in range(n - 1, -1, -1): # последовательно восставливаем ответ\n",
    "    for j in range(n - 1, i, -1):\n",
    "        x[i] -= x[j] * data[i][j]\n",
    "res = np.array(list(zip(x, permutations))) # массив пар (x, i), где x является i-й компонентой решения системы\n",
    "res = res[res[:, 1].argsort()] # сортировка по номеру переменной\n",
    "x = res[:, 0] # вытаскиваем вектор решений в естественном порядке (от x_0 до x_n)\n",
    "print(x) # выводим решение системы"
   ]
  },
  {
   "cell_type": "markdown",
   "metadata": {},
   "source": [
    "Сверим найденное решение с решением, полученным с использованием специальной библиотеки Python для решения задач линейной алгебры."
   ]
  },
  {
   "cell_type": "code",
   "execution_count": 172,
   "metadata": {},
   "outputs": [
    {
     "name": "stdout",
     "output_type": "stream",
     "text": [
      "[-2. -0.  1. -1.]\n"
     ]
    }
   ],
   "source": [
    "print(np.linalg.solve(data_cpy[:, :n], data_cpy[:, n]))"
   ]
  },
  {
   "cell_type": "markdown",
   "metadata": {},
   "source": [
    "Как видим, решение полностью совпало."
   ]
  },
  {
   "cell_type": "markdown",
   "metadata": {},
   "source": [
    "# Вычисление определителя и обратной матрицы"
   ]
  },
  {
   "cell_type": "markdown",
   "metadata": {},
   "source": [
    "Для вычисления обратной матрицы присоединим к исходной справа единичную матрицу и будем приводить исходную к единичной, выполняя все преобразования на присоединенной. В итоге присоединенная матрица окажется обратной к исходной. Параллельно вычисляем определитель, перемножая получаемые по ходу преобразований элементы на главной диагонали."
   ]
  },
  {
   "cell_type": "code",
   "execution_count": 173,
   "metadata": {},
   "outputs": [],
   "source": [
    "det = 1\n",
    "data_rev = data_cpy[:, :n]\n",
    "id = np.identity(n) # единичная матрица порядка n\n",
    "for i in range(0, n): # присоединяем\n",
    "    data_rev = np.column_stack((data_rev, id[:, i]))"
   ]
  },
  {
   "cell_type": "code",
   "execution_count": 174,
   "metadata": {},
   "outputs": [
    {
     "name": "stdout",
     "output_type": "stream",
     "text": [
      "[[ 1.       0.       0.       0.      -0.28571  0.28571  0.71429 -0.14286]\n",
      " [ 0.       1.       0.       0.       1.28571 -2.78571  0.28571 -0.35714]\n",
      " [-0.      -0.       1.       0.      -0.14286  0.64286 -0.14286 -0.07143]\n",
      " [ 0.       0.       0.       1.      -0.14286  0.14286 -0.14286  0.42857]]\n"
     ]
    }
   ],
   "source": [
    "for i in range(0, n): # приводим \"левую\" матрицу к нижнитреугольному виду с единицами на диагонали\n",
    "    if data_rev[i][i] == 0: # i-й элемент строки нулевой?\n",
    "        for j in range(i + 1, n):\n",
    "            if data_rev[j][i] != 0:\n",
    "                data_rev[[i, j]] = data_rev[[j, i]] # меняем местами строчки\n",
    "                break\n",
    "    det *= data_rev[i][i] # последовательно вычисляем определитель\n",
    "    data_rev[i] /= data_rev[i][i] # делим i-ю строку на её i-й элемент\n",
    "    for j in range(i + 1, n):\n",
    "        data_rev[j] -= data_rev[i] * data_rev[j][i] # вычитаем из всех остальных строк i-ю, умноженную на нужное число\n",
    "for i in range(n - 1, -1, -1): # # приводим \"левую\" матрицу к единичному виду\n",
    "    for j in range(i - 1, -1, -1):\n",
    "        data_rev[j] -= data_rev[i] * data_rev[j][i] # вычитаем из всех остальных строк i-ю, умноженную на нужное число\n",
    "print(data_rev)"
   ]
  },
  {
   "cell_type": "code",
   "execution_count": 182,
   "metadata": {},
   "outputs": [
    {
     "name": "stdout",
     "output_type": "stream",
     "text": [
      "14.0\n",
      "[[-0.28571  0.28571  0.71429 -0.14286]\n",
      " [ 1.28571 -2.78571  0.28571 -0.35714]\n",
      " [-0.14286  0.64286 -0.14286 -0.07143]\n",
      " [-0.14286  0.14286 -0.14286  0.42857]]\n"
     ]
    }
   ],
   "source": [
    "reverse_matrix = data_rev[:, n:] # вытаскиваем нужную часть\n",
    "print(det) # выводим определитель\n",
    "print(reverse_matrix) # выводим обратную матрицу"
   ]
  },
  {
   "cell_type": "markdown",
   "metadata": {},
   "source": [
    "Проверим полученные результаты, опять же, с помощью библиотечных функций."
   ]
  },
  {
   "cell_type": "code",
   "execution_count": 184,
   "metadata": {},
   "outputs": [
    {
     "name": "stdout",
     "output_type": "stream",
     "text": [
      "14.000000000000004\n",
      "[[ 1. -0. -0.  0.]\n",
      " [ 0.  1. -0. -0.]\n",
      " [ 0.  0.  1. -0.]\n",
      " [ 0.  0. -0.  1.]]\n"
     ]
    }
   ],
   "source": [
    "print(np.linalg.det(data_cpy[:, :n])) # определитель\n",
    "print(np.dot(data_cpy[:, :n], reverse_matrix)) # умножаем исходную матрицу и полученную обратную"
   ]
  },
  {
   "cell_type": "markdown",
   "metadata": {},
   "source": [
    "# Тестирование"
   ]
  },
  {
   "cell_type": "markdown",
   "metadata": {},
   "source": [
    "Далее будет производиться тестирование программы на системах линейных алгебраических уравнений, который были предложены в приложении 1-2. Первая из систем была проверена выше. Ниже приводятся непосредственные ответы, полученные с помощью описанной выше программы, а также с помощью функции __np.linalg.solve__."
   ]
  },
  {
   "cell_type": "code",
   "execution_count": null,
   "metadata": {},
   "outputs": [],
   "source": []
  }
 ],
 "metadata": {
  "kernelspec": {
   "display_name": "Python 3",
   "language": "python",
   "name": "python3"
  },
  "language_info": {
   "codemirror_mode": {
    "name": "ipython",
    "version": 3
   },
   "file_extension": ".py",
   "mimetype": "text/x-python",
   "name": "python",
   "nbconvert_exporter": "python",
   "pygments_lexer": "ipython3",
   "version": "3.7.0"
  }
 },
 "nbformat": 4,
 "nbformat_minor": 2
}
