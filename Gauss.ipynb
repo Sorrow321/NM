{
 "cells": [
  {
   "cell_type": "code",
   "execution_count": 270,
   "metadata": {},
   "outputs": [],
   "source": [
    "import numpy as np\n",
    "np.set_printoptions(precision=5, suppress=True)"
   ]
  },
  {
   "cell_type": "markdown",
   "metadata": {},
   "source": [
    "# Создание и заполнение матрицы"
   ]
  },
  {
   "cell_type": "markdown",
   "metadata": {},
   "source": [
    "Создаем и заполняем матрицу входными данными из файла __data.txt__. Размерность определяется автоматически.\n",
    "Предполагается, что данные введены корректно в естественной форме:\n",
    "$$\\begin{bmatrix}\n",
    "    a_{11} & a_{12} & ... & a_{1n} \\\\\n",
    "    a_{21} & a_{22} & ... & a_{2n}\\\\\n",
    "    . & . & ... & .\\\\\n",
    "    . & . & ... & .\\\\\n",
    "    a_{n1} & a_{n2} & ... & a_{nn}\n",
    "  \\end{bmatrix}\n",
    " \\begin{bmatrix}\n",
    "    b_1\\\\\n",
    "    b_2\\\\\n",
    "    .\\\\\n",
    "    .\\\\\n",
    "    b_n\n",
    "  \\end{bmatrix}$$"
   ]
  },
  {
   "cell_type": "code",
   "execution_count": 237,
   "metadata": {},
   "outputs": [
    {
     "name": "stdout",
     "output_type": "stream",
     "text": [
      "[[ 2.  3. 11.  5.  2.]\n",
      " [ 1.  1.  5.  2.  1.]\n",
      " [ 2.  1.  3.  2. -3.]\n",
      " [ 1.  1.  3.  4. -3.]]\n"
     ]
    }
   ],
   "source": [
    "data = np.loadtxt(\"data2.txt\", delimiter=' ', dtype=np.float)\n",
    "data_cpy = np.copy(data)\n",
    "n = data.shape[0] # размерность\n",
    "print(data) # для наглядности выведем матрицу"
   ]
  },
  {
   "cell_type": "markdown",
   "metadata": {},
   "source": [
    "# Реализация модифицированного метода Гаусса"
   ]
  },
  {
   "cell_type": "code",
   "execution_count": 238,
   "metadata": {},
   "outputs": [],
   "source": [
    "def Gauss(data, n):\n",
    "    # Прямой ход\n",
    "    permutations = np.array(range(0, n))\n",
    "    for i in range(0, n):\n",
    "        if data[i][i] == 0: # i-й элемент строки нулевой?\n",
    "            for j in range(i + 1, n):\n",
    "                if data[j][i] != 0:\n",
    "                    data[[i, j]] = data[[j, i]] # меняем местами строчки\n",
    "                    break\n",
    "        ### Модифицированный метод гаусса (с выбором главного элемента)\n",
    "        col_max = i + np.argmax(abs(data[i][i:n]))\n",
    "        data[:,[i, col_max]] = data[:,[col_max, i]]\n",
    "        permutations[i], permutations[col_max] = permutations[col_max], permutations[i]\n",
    "        ###\n",
    "        data[i] /= data[i][i] # делим i-ю строку на её i-й элемент\n",
    "        for j in range(i + 1, n):\n",
    "            data[j] -= data[i] * data[j][i] # вычитаем из всех остальных строк i-ю, умноженную на нужное число\n",
    "    # Обратный ход\n",
    "    x = data[:, n] # создаем вектор неизвестных, заранее присвоив ему значение столбца свободных членов\n",
    "    for i in range(n - 1, -1, -1): # последовательно восставливаем ответ\n",
    "        for j in range(n - 1, i, -1):\n",
    "            x[i] -= x[j] * data[i][j]\n",
    "    res = np.array(list(zip(x, permutations))) # массив пар (x, i), где x является i-й компонентой решения системы\n",
    "    res = res[res[:, 1].argsort()] # сортировка по номеру переменной\n",
    "    x = res[:, 0] # вытаскиваем вектор решений в естественном порядке (от x_0 до x_n)\n",
    "    return x # возвращаем решение системы"
   ]
  },
  {
   "cell_type": "code",
   "execution_count": 239,
   "metadata": {},
   "outputs": [
    {
     "name": "stdout",
     "output_type": "stream",
     "text": [
      "[-2. -0.  1. -1.]\n"
     ]
    }
   ],
   "source": [
    "print(Gauss(data, n))"
   ]
  },
  {
   "cell_type": "markdown",
   "metadata": {},
   "source": [
    "Сверим найденное решение с решением, полученным с использованием специальной библиотеки Python для решения задач линейной алгебры."
   ]
  },
  {
   "cell_type": "code",
   "execution_count": 240,
   "metadata": {},
   "outputs": [
    {
     "name": "stdout",
     "output_type": "stream",
     "text": [
      "[-2. -0.  1. -1.]\n"
     ]
    }
   ],
   "source": [
    "print(np.linalg.solve(data_cpy[:, :n], data_cpy[:, n]))"
   ]
  },
  {
   "cell_type": "markdown",
   "metadata": {},
   "source": [
    "Как видим, решение полностью совпало."
   ]
  },
  {
   "cell_type": "markdown",
   "metadata": {},
   "source": [
    "# Вычисление определителя и обратной матрицы"
   ]
  },
  {
   "cell_type": "markdown",
   "metadata": {},
   "source": [
    "Для вычисления обратной матрицы присоединим к исходной справа единичную матрицу и будем приводить исходную к единичной, выполняя все преобразования на присоединенной. В итоге присоединенная матрица окажется обратной к исходной. Параллельно вычисляем определитель, перемножая получаемые по ходу преобразований элементы на главной диагонали (предполагается, что определитель ненулевой)."
   ]
  },
  {
   "cell_type": "code",
   "execution_count": 241,
   "metadata": {},
   "outputs": [],
   "source": [
    "def det_inverse(data_cpy, n):\n",
    "    det = 1\n",
    "    data_inv = data_cpy[:, :n]\n",
    "    id = np.identity(n) # единичная матрица порядка n\n",
    "    for i in range(0, n): # присоединяем\n",
    "        data_inv = np.column_stack((data_inv, id[:, i]))\n",
    "    for i in range(0, n): # приводим \"левую\" матрицу к нижнитреугольному виду с единицами на диагонали\n",
    "        if data_inv[i][i] == 0: # i-й элемент строки нулевой?\n",
    "            for j in range(i + 1, n):\n",
    "                if data_inv[j][i] != 0:\n",
    "                    data_inv[[i, j]] = data_inv[[j, i]] # меняем местами строчки\n",
    "                    break\n",
    "        det *= data_inv[i][i] # последовательно вычисляем определитель\n",
    "        data_inv[i] /= data_inv[i][i] # делим i-ю строку на её i-й элемент\n",
    "        for j in range(i + 1, n):\n",
    "            data_inv[j] -= data_inv[i] * data_inv[j][i] # вычитаем из всех остальных строк i-ю, умноженную на нужное число\n",
    "    for i in range(n - 1, -1, -1): # # приводим \"левую\" матрицу к единичному виду\n",
    "        for j in range(i - 1, -1, -1):\n",
    "            data_inv[j] -= data_inv[i] * data_inv[j][i] # вычитаем из всех остальных строк i-ю, умноженную на нужное число\n",
    "    inverse_matrix = data_inv[:, n:] # вытаскиваем нужную часть\n",
    "    return det, inverse_matrix"
   ]
  },
  {
   "cell_type": "code",
   "execution_count": 242,
   "metadata": {},
   "outputs": [
    {
     "name": "stdout",
     "output_type": "stream",
     "text": [
      "14.0\n",
      "[[-0.28571  0.28571  0.71429 -0.14286]\n",
      " [ 1.28571 -2.78571  0.28571 -0.35714]\n",
      " [-0.14286  0.64286 -0.14286 -0.07143]\n",
      " [-0.14286  0.14286 -0.14286  0.42857]]\n"
     ]
    }
   ],
   "source": [
    "det, inverse_matrix = det_inverse(data_cpy, n)\n",
    "print(det) # выводим определитель\n",
    "print(inverse_matrix) # выводим обратную матрицу"
   ]
  },
  {
   "cell_type": "markdown",
   "metadata": {},
   "source": [
    "Проверим полученные результаты, опять же, с помощью библиотечных функций."
   ]
  },
  {
   "cell_type": "code",
   "execution_count": 243,
   "metadata": {},
   "outputs": [
    {
     "name": "stdout",
     "output_type": "stream",
     "text": [
      "14.000000000000004\n",
      "[[ 1. -0. -0.  0.]\n",
      " [ 0.  1. -0. -0.]\n",
      " [ 0.  0.  1. -0.]\n",
      " [ 0.  0. -0.  1.]]\n"
     ]
    }
   ],
   "source": [
    "print(np.linalg.det(data_cpy[:, :n])) # определитель\n",
    "print(np.dot(data_cpy[:, :n], inverse_matrix)) # умножаем исходную матрицу на полученную обратную"
   ]
  },
  {
   "cell_type": "markdown",
   "metadata": {},
   "source": [
    "# Тестирование"
   ]
  },
  {
   "cell_type": "markdown",
   "metadata": {},
   "source": [
    "Далее будут представлены резульаты тестирование программы на системах линейных алгебраических уравнений, которые были предложены в приложении 1-2. Первая из систем была проверена выше. Ниже приводятся непосредственные ответы, полученные с помощью описанной выше программы, а также с помощью функции __np.linalg.solve__."
   ]
  },
  {
   "cell_type": "code",
   "execution_count": 284,
   "metadata": {},
   "outputs": [
    {
     "name": "stdout",
     "output_type": "stream",
     "text": [
      "-0.00000\n",
      "[[ 2. -1.  1.  2.]\n",
      " [ 6. -3.  2.  4.]\n",
      " [ 6. -3.  4.  8.]\n",
      " [ 4. -2.  1.  1.]]\n"
     ]
    }
   ],
   "source": [
    "# Вторая матрица\n",
    "data2 = np.loadtxt(\"data3.txt\", delimiter=' ', dtype=np.float)\n",
    "data2 = data2[:, :data2.shape[0]]\n",
    "print(\"%.5f\" % np.linalg.det(data2))\n",
    "print(data2)"
   ]
  },
  {
   "cell_type": "markdown",
   "metadata": {},
   "source": [
    "Вторая матрица из приложения 1-2 является вырожденной, поэтому рассмотренные выше методы для неё не годятся."
   ]
  },
  {
   "cell_type": "code",
   "execution_count": 293,
   "metadata": {},
   "outputs": [
    {
     "name": "stdout",
     "output_type": "stream",
     "text": [
      "[ 0.91667  1.11111  0.97222 -0.11111]\n",
      "[ 0.91667  1.11111  0.97222 -0.11111]\n",
      "36.0\n",
      "[[-0.58333  0.91667 -0.16667 -0.08333]\n",
      " [ 0.77778 -0.88889  0.88889  0.11111]\n",
      " [-0.19444 -0.02778  0.27778 -0.02778]\n",
      " [ 0.22222 -0.11111  0.11111 -0.11111]]\n",
      "36.0\n",
      "[[-0.58333  0.91667 -0.16667 -0.08333]\n",
      " [ 0.77778 -0.88889  0.88889  0.11111]\n",
      " [-0.19444 -0.02778  0.27778 -0.02778]\n",
      " [ 0.22222 -0.11111  0.11111 -0.11111]]\n"
     ]
    }
   ],
   "source": [
    "# Третья матрица\n",
    "data3 = np.loadtxt(\"data4.txt\", delimiter=' ', dtype=np.float)\n",
    "data3_cpy = np.copy(data3)\n",
    "data3_cpy2 = np.copy(data3)\n",
    "n = data3.shape[0]\n",
    "print(Gauss(data3, n))\n",
    "print(np.linalg.solve(data3_cpy[:, :n], data3_cpy[:, n]))\n",
    "\n",
    "res = det_inverse(data3_cpy2[:, :n], n)\n",
    "print(res[0])\n",
    "print(res[1])\n",
    "res2 = np.linalg.det(data3_cpy[:, :n]), np.linalg.inv(data3_cpy[:, :n])\n",
    "print(res2[0])\n",
    "print(res2[1])"
   ]
  },
  {
   "cell_type": "markdown",
   "metadata": {},
   "source": [
    "Как видим, всё совпадает."
   ]
  },
  {
   "cell_type": "markdown",
   "metadata": {},
   "source": [
    "Теперь протестируем алгоритмы на следующей системе (приложение 2, пример 1, вариант 6). Коэффициенты матрицы определяются как: $$\\begin{equation*}\n",
    "a_{ij} = \n",
    " \\begin{cases}\n",
    "   \\frac{i + j}{m + n} , i \\neq j,\\\\\n",
    "   n + m^2 + \\frac{j}{m} + \\frac{i}{n} , i = j,\\\\\n",
    " \\end{cases}\n",
    "\\end{equation*}$$\n",
    "где $i, j \\in \\{1,...,n\\}$, $n = 25$, $m=10$.<br>Столбец свободных членов определяется как $$b_i = i^2 - n$$"
   ]
  },
  {
   "cell_type": "code",
   "execution_count": 311,
   "metadata": {},
   "outputs": [
    {
     "name": "stdout",
     "output_type": "stream",
     "text": [
      "[-0.35441 -0.33761 -0.30487 -0.25622 -0.19168 -0.11129 -0.01509  0.09691\n",
      "  0.22467  0.36815  0.52732  0.70216  0.89264  1.09872  1.32036  1.55755\n",
      "  1.81026  2.07844  2.36207  2.66112  2.97556  3.30536  3.65049  4.01091\n",
      "  4.38661]\n",
      "[-0.35441 -0.33761 -0.30487 -0.25622 -0.19168 -0.11129 -0.01509  0.09691\n",
      "  0.22467  0.36815  0.52732  0.70216  0.89264  1.09872  1.32036  1.55755\n",
      "  1.81026  2.07844  2.36207  2.66112  2.97556  3.30536  3.65049  4.01091\n",
      "  4.38661]\n",
      "Det:  3.7556660492642055e+52 3.755666049264226e+52\n",
      "[[ 0.  0. -0. -0. -0.  0.  0.  0. -0. -0.  0.  0.  0.  0.  0. -0. -0.  0.\n",
      "   0. -0.  0. -0.  0.  0. -0.]\n",
      " [-0. -0. -0.  0. -0.  0.  0.  0. -0.  0. -0. -0.  0.  0. -0.  0. -0.  0.\n",
      "   0.  0.  0. -0.  0. -0. -0.]\n",
      " [-0. -0.  0. -0.  0.  0.  0.  0. -0. -0. -0. -0.  0.  0.  0.  0. -0.  0.\n",
      "  -0. -0.  0.  0. -0. -0. -0.]\n",
      " [ 0.  0.  0.  0.  0. -0.  0.  0. -0.  0.  0. -0.  0.  0. -0. -0. -0.  0.\n",
      "   0.  0.  0. -0. -0.  0. -0.]\n",
      " [ 0. -0. -0. -0.  0.  0.  0.  0. -0.  0. -0. -0. -0.  0.  0. -0. -0.  0.\n",
      "   0. -0.  0.  0. -0.  0.  0.]\n",
      " [ 0.  0.  0.  0.  0.  0.  0.  0.  0.  0. -0. -0.  0.  0.  0. -0. -0.  0.\n",
      "   0. -0.  0.  0.  0.  0. -0.]\n",
      " [-0. -0.  0. -0.  0. -0. -0.  0. -0. -0.  0. -0.  0.  0.  0. -0. -0.  0.\n",
      "   0.  0.  0. -0.  0.  0. -0.]\n",
      " [ 0. -0. -0.  0. -0. -0.  0. -0. -0. -0.  0. -0.  0.  0. -0.  0. -0.  0.\n",
      "   0. -0.  0. -0. -0.  0. -0.]\n",
      " [-0.  0.  0.  0. -0.  0.  0.  0.  0. -0.  0. -0.  0.  0.  0.  0. -0.  0.\n",
      "  -0. -0.  0. -0.  0.  0. -0.]\n",
      " [-0. -0. -0.  0. -0.  0. -0. -0. -0.  0.  0. -0. -0.  0. -0.  0. -0.  0.\n",
      "   0. -0.  0. -0. -0.  0. -0.]\n",
      " [ 0.  0.  0. -0.  0. -0.  0. -0.  0. -0.  0. -0.  0.  0.  0. -0. -0.  0.\n",
      "  -0.  0.  0. -0.  0. -0. -0.]\n",
      " [ 0.  0.  0.  0.  0.  0.  0.  0.  0.  0.  0.  0.  0.  0.  0.  0. -0.  0.\n",
      "   0.  0.  0.  0.  0. -0. -0.]\n",
      " [-0.  0.  0. -0.  0.  0.  0.  0. -0.  0. -0. -0.  0.  0. -0. -0. -0.  0.\n",
      "   0. -0.  0. -0.  0.  0. -0.]\n",
      " [ 0. -0. -0.  0. -0. -0. -0.  0.  0.  0. -0.  0.  0. -0. -0. -0. -0.  0.\n",
      "   0. -0.  0. -0. -0. -0. -0.]\n",
      " [ 0. -0. -0. -0.  0.  0.  0.  0.  0.  0.  0. -0.  0.  0.  0. -0. -0.  0.\n",
      "   0. -0.  0.  0.  0.  0. -0.]\n",
      " [ 0. -0.  0. -0.  0.  0.  0.  0.  0.  0.  0.  0.  0.  0.  0.  0. -0.  0.\n",
      "   0. -0.  0. -0.  0. -0. -0.]\n",
      " [ 0. -0.  0.  0.  0.  0.  0.  0.  0. -0. -0. -0.  0.  0.  0.  0.  0.  0.\n",
      "   0.  0.  0.  0.  0.  0. -0.]\n",
      " [-0.  0.  0. -0.  0.  0. -0.  0. -0. -0. -0.  0.  0. -0.  0.  0. -0. -0.\n",
      "  -0.  0.  0.  0.  0.  0. -0.]\n",
      " [-0. -0.  0.  0.  0.  0. -0.  0.  0. -0. -0.  0. -0.  0. -0.  0.  0.  0.\n",
      "  -0.  0.  0.  0.  0.  0. -0.]\n",
      " [ 0.  0.  0. -0.  0. -0.  0.  0.  0. -0.  0.  0.  0.  0. -0.  0.  0.  0.\n",
      "   0.  0.  0. -0.  0. -0. -0.]\n",
      " [-0.  0.  0. -0.  0.  0.  0.  0. -0. -0. -0.  0.  0.  0. -0.  0. -0. -0.\n",
      "   0.  0. -0. -0.  0. -0. -0.]\n",
      " [-0.  0.  0.  0.  0. -0.  0.  0.  0.  0.  0.  0.  0.  0. -0.  0.  0.  0.\n",
      "   0. -0. -0.  0.  0.  0.  0.]\n",
      " [ 0.  0.  0.  0. -0.  0.  0.  0. -0.  0.  0.  0. -0. -0.  0.  0.  0.  0.\n",
      "   0.  0.  0.  0.  0. -0. -0.]\n",
      " [ 0. -0.  0.  0. -0.  0.  0. -0.  0.  0.  0. -0.  0. -0.  0.  0. -0.  0.\n",
      "   0.  0.  0.  0.  0.  0. -0.]\n",
      " [ 0. -0. -0. -0. -0. -0.  0. -0. -0.  0. -0. -0. -0. -0. -0.  0. -0. -0.\n",
      "  -0. -0.  0. -0. -0. -0.  0.]]\n"
     ]
    }
   ],
   "source": [
    "n = 25\n",
    "m = 10\n",
    "data = np.empty((n, n + 1))\n",
    "for i in range(0, n):\n",
    "    for j in range(0, n):\n",
    "        if i == j:\n",
    "            data[i][j] = n + m*m + (j + 1) / m + (i + 1) / n\n",
    "        else:\n",
    "            data[i][j] = (i + j + 2) / (m + n)\n",
    "for i in range(0, n):\n",
    "    data[i][n] = (i + 1) * (i + 1) - n\n",
    "data_cpy = np.copy(data)\n",
    "data_cpy2 = np.copy(data)\n",
    "n = data.shape[0]\n",
    "print(Gauss(data, n)) # реализованное решение\n",
    "print(np.linalg.solve(data_cpy[:, :n], data_cpy[:, n])) # библиотечное решение\n",
    "\n",
    "res1 = det_inverse(data_cpy2[:, :n], n)\n",
    "res2 = np.linalg.det(data_cpy[:, :n]), np.linalg.inv(data_cpy[:, :n])\n",
    "print(\"Det: \", res1[0], res2[0]) # определители\n",
    "print(res1[1] - res2[1]) # разность"
   ]
  },
  {
   "cell_type": "markdown",
   "metadata": {},
   "source": [
    "Программа снова успешно прошла все тесты."
   ]
  },
  {
   "cell_type": "markdown",
   "metadata": {},
   "source": [
    "# Определение числа обусловленности"
   ]
  },
  {
   "cell_type": "markdown",
   "metadata": {},
   "source": [
    "Определим число обусловленности $||A||\\times||A^{-1}||$ матрицы коэффициентов $A$. Для этого вычислим норму матрицы $A$ (и матрицы, обратной к ней) по формуле $$||A|| = \\max\\limits_{1\\leq i\\leq n} \\sum_{j=1}^n |a_{ij}|$$ "
   ]
  },
  {
   "cell_type": "code",
   "execution_count": 312,
   "metadata": {},
   "outputs": [],
   "source": [
    "def mat_norm(data, n):\n",
    "    max = 0\n",
    "    for i in range(0, n):\n",
    "        max_i = 0\n",
    "        for j in range(0, n):\n",
    "            max_i += abs(data[i][j])\n",
    "        if max_i > max:\n",
    "            max = max_i\n",
    "    return max"
   ]
  },
  {
   "cell_type": "markdown",
   "metadata": {},
   "source": [
    "Найдем, к примеру, число обусловленностей для матрицы коэффициентов одной из рассмотренный выше систем."
   ]
  },
  {
   "cell_type": "code",
   "execution_count": 325,
   "metadata": {},
   "outputs": [
    {
     "name": "stdout",
     "output_type": "stream",
     "text": [
      "[[ 1.  1. -3.  1. -1.]\n",
      " [ 2.  1. -2.  0.  1.]\n",
      " [ 1.  1.  1.  0.  3.]\n",
      " [ 1.  2. -3. -7.  1.]]\n",
      "34.666666666666664\n"
     ]
    }
   ],
   "source": [
    "data3 = np.loadtxt(\"data4.txt\", delimiter=' ', dtype=np.float)\n",
    "print(data3)\n",
    "data3_cpy = np.copy(data3_cpy)\n",
    "n = data3.shape[0]\n",
    "_, inv = det_inverse(data3[:, :n], n)\n",
    "print(mat_norm(data3_cpy, n) * mat_norm(inv, n))"
   ]
  },
  {
   "cell_type": "markdown",
   "metadata": {},
   "source": [
    "Метод Гаусса для плохо обусловленных матриц коэффициентов является вычислительно неустойчивым. Уменьшить вычислительную ошибку можно с помощью модифицированного метода Гаусса с выделением главного элемента, который является условно устойчивым. Широкое применение метода Гаусса связано с тем, что плохо обусловленные матрицы встречаются на практике относительно редко."
   ]
  }
 ],
 "metadata": {
  "kernelspec": {
   "display_name": "Python 3",
   "language": "python",
   "name": "python3"
  },
  "language_info": {
   "codemirror_mode": {
    "name": "ipython",
    "version": 3
   },
   "file_extension": ".py",
   "mimetype": "text/x-python",
   "name": "python",
   "nbconvert_exporter": "python",
   "pygments_lexer": "ipython3",
   "version": "3.7.0"
  }
 },
 "nbformat": 4,
 "nbformat_minor": 2
}
